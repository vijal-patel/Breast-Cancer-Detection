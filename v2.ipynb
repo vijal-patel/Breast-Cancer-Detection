{
 "cells": [
  {
   "cell_type": "code",
   "execution_count": 1,
   "metadata": {},
   "outputs": [
    {
     "name": "stdout",
     "output_type": "stream",
     "text": [
      "[PhysicalDevice(name='/physical_device:GPU:0', device_type='GPU')]\n"
     ]
    }
   ],
   "source": [
    "import json\n",
    "import pandas as pd\n",
    "import numpy as np\n",
    "import math\n",
    "import tensorflow as tf\n",
    "import matplotlib.pyplot as plt\n",
    "import zipfile\n",
    "import os\n",
    "import random\n",
    "import itertools\n",
    "from tensorflow import keras\n",
    "from scipy import ndimage\n",
    "from matplotlib.image import imread\n",
    "from sklearn.preprocessing import OneHotEncoder\n",
    "\n",
    "gpus = tf.config.experimental.list_physical_devices('GPU')\n",
    "print(gpus)"
   ]
  },
  {
   "cell_type": "code",
   "execution_count": 2,
   "metadata": {},
   "outputs": [
    {
     "data": {
      "text/html": [
       "<div>\n",
       "<style scoped>\n",
       "    .dataframe tbody tr th:only-of-type {\n",
       "        vertical-align: middle;\n",
       "    }\n",
       "\n",
       "    .dataframe tbody tr th {\n",
       "        vertical-align: top;\n",
       "    }\n",
       "\n",
       "    .dataframe thead th {\n",
       "        text-align: right;\n",
       "    }\n",
       "</style>\n",
       "<table border=\"1\" class=\"dataframe\">\n",
       "  <thead>\n",
       "    <tr style=\"text-align: right;\">\n",
       "      <th></th>\n",
       "      <th>Unnamed: 0</th>\n",
       "      <th>Unnamed: 0.1</th>\n",
       "      <th>0</th>\n",
       "      <th>label</th>\n",
       "    </tr>\n",
       "  </thead>\n",
       "  <tbody>\n",
       "    <tr>\n",
       "      <th>0</th>\n",
       "      <td>0</td>\n",
       "      <td>0</td>\n",
       "      <td>./IDC_regular_ps50_idx5/9320/0/9320_idx5_x1651...</td>\n",
       "      <td>0.0</td>\n",
       "    </tr>\n",
       "    <tr>\n",
       "      <th>1</th>\n",
       "      <td>1</td>\n",
       "      <td>1</td>\n",
       "      <td>./IDC_regular_ps50_idx5/8950/0/8950_idx5_x551_...</td>\n",
       "      <td>0.0</td>\n",
       "    </tr>\n",
       "    <tr>\n",
       "      <th>2</th>\n",
       "      <td>2</td>\n",
       "      <td>2</td>\n",
       "      <td>./IDC_regular_ps50_idx5/12898/0/12898_idx5_x16...</td>\n",
       "      <td>0.0</td>\n",
       "    </tr>\n",
       "    <tr>\n",
       "      <th>3</th>\n",
       "      <td>3</td>\n",
       "      <td>3</td>\n",
       "      <td>./IDC_regular_ps50_idx5/9081/0/9081_idx5_x1601...</td>\n",
       "      <td>0.0</td>\n",
       "    </tr>\n",
       "    <tr>\n",
       "      <th>4</th>\n",
       "      <td>4</td>\n",
       "      <td>4</td>\n",
       "      <td>./IDC_regular_ps50_idx5/16551/0/16551_idx5_x60...</td>\n",
       "      <td>0.0</td>\n",
       "    </tr>\n",
       "  </tbody>\n",
       "</table>\n",
       "</div>"
      ],
      "text/plain": [
       "   Unnamed: 0  Unnamed: 0.1  \\\n",
       "0           0             0   \n",
       "1           1             1   \n",
       "2           2             2   \n",
       "3           3             3   \n",
       "4           4             4   \n",
       "\n",
       "                                                   0  label  \n",
       "0  ./IDC_regular_ps50_idx5/9320/0/9320_idx5_x1651...    0.0  \n",
       "1  ./IDC_regular_ps50_idx5/8950/0/8950_idx5_x551_...    0.0  \n",
       "2  ./IDC_regular_ps50_idx5/12898/0/12898_idx5_x16...    0.0  \n",
       "3  ./IDC_regular_ps50_idx5/9081/0/9081_idx5_x1601...    0.0  \n",
       "4  ./IDC_regular_ps50_idx5/16551/0/16551_idx5_x60...    0.0  "
      ]
     },
     "execution_count": 2,
     "metadata": {},
     "output_type": "execute_result"
    }
   ],
   "source": [
    "df = pd.read_csv('under_sampled.csv')\n",
    "df.head()\n"
   ]
  },
  {
   "cell_type": "code",
   "execution_count": 3,
   "metadata": {},
   "outputs": [],
   "source": [
    "images = df.iloc[:,2:3].values\n",
    "labels = df.iloc[:,3:4].values"
   ]
  },
  {
   "cell_type": "code",
   "execution_count": 4,
   "metadata": {},
   "outputs": [],
   "source": [
    "def parse_image(img, lbl):\n",
    "    image = tf.io.read_file('../../' + img[0])\n",
    "    image = tf.image.decode_jpeg(image, channels=3)\n",
    "    image = tf.image.convert_image_dtype(image, tf.float32)\n",
    "    image = tf.image.resize(image, [50, 50])\n",
    "    return image, lbl\n",
    "\n",
    "def show_image(img, lbl):\n",
    "    plt.figure()\n",
    "    plt.imshow(img)\n",
    "#     plt.title(tf.strings.as_string()\n",
    "    plt.axis('off')"
   ]
  },
  {
   "cell_type": "code",
   "execution_count": 5,
   "metadata": {},
   "outputs": [],
   "source": [
    "split_0 = int(0.8*len(labels))\n",
    "split_1 = int(0.1*len(labels))"
   ]
  },
  {
   "cell_type": "code",
   "execution_count": 6,
   "metadata": {},
   "outputs": [
    {
     "name": "stdout",
     "output_type": "stream",
     "text": [
      "126057\n"
     ]
    }
   ],
   "source": [
    "print(split_0)"
   ]
  },
  {
   "cell_type": "code",
   "execution_count": 7,
   "metadata": {},
   "outputs": [],
   "source": [
    "data = tf.data.Dataset.from_tensor_slices((images, labels))\n",
    "data = data.shuffle(len(labels), reshuffle_each_iteration=True)\n",
    "data = data.map(parse_image)\n",
    "train_data = data.take(split_0)\n",
    "temp_data = data.skip(split_0)\n",
    "val_data = temp_data.skip(split_1)\n",
    "test_data = temp_data.take(split_1)"
   ]
  },
  {
   "cell_type": "code",
   "execution_count": 8,
   "metadata": {},
   "outputs": [
    {
     "data": {
      "image/png": "[encoded data removed]",
      "text/plain": [
       "<Figure size 432x288 with 1 Axes>"
      ]
     },
     "metadata": {
      "needs_background": "light"
     },
     "output_type": "display_data"
    }
   ],
   "source": [
    "for image, label in train_data.take(1):\n",
    "    show_image(image, label)"
   ]
  },
  {
   "cell_type": "code",
   "execution_count": 9,
   "metadata": {},
   "outputs": [],
   "source": [
    "class Model(tf.keras.Model):\n",
    "\n",
    "  def __init__(self):\n",
    "    super(Model, self).__init__()\n",
    "    self.conv1 = tf.keras.layers.Conv2D(32, 3, activation='relu', bias_initializer='he_normal')\n",
    "    self.conv2 = tf.keras.layers.Conv2D(64, 3, activation='relu', bias_initializer='he_normal')\n",
    "    self.max0 = tf.keras.layers.MaxPool2D(2,2)\n",
    "    self.conv3 = tf.keras.layers.Conv2D(64, 3, activation='relu', padding=\"same\")\n",
    "    self.conv4 = tf.keras.layers.Conv2D(64, 3, activation='relu', padding=\"same\")\n",
    "    self.conv5 = tf.keras.layers.Conv2D(128, 3, activation='relu')\n",
    "    self.conv6 = tf.keras.layers.Conv2D(128, 3, activation='relu', padding=\"same\")\n",
    "    self.conv7 = tf.keras.layers.Conv2D(128, 3, activation='relu', padding=\"same\")\n",
    "    self.conv8 = tf.keras.layers.Conv2D(256, 3, activation='relu')\n",
    "    self.conv9 = tf.keras.layers.Conv2D(256, 3, activation='relu', padding=\"same\")\n",
    "    self.conv10 = tf.keras.layers.Conv2D(256, 3, activation='relu', padding=\"same\")\n",
    "    self.conv11 = tf.keras.layers.Conv2D(512, 3, activation='relu')\n",
    "    self.conv12 = tf.keras.layers.Conv2D(512, 3, activation='relu', padding=\"same\")\n",
    "    self.conv13 = tf.keras.layers.Conv2D(512, 3, activation='relu', padding=\"same\")\n",
    "    # self.ave0 = tf.keras.layers.AveragePooling2D()\n",
    "    self.flatten = tf.keras.layers.Flatten()\n",
    "    self.d1 = tf.keras.layers.Dense(1000, activation='relu', use_bias= True)\n",
    "    self.b1 = tf.keras.layers.BatchNormalization(trainable=True)\n",
    "    # self.d2 = tf.keras.layers.Dense(4096, activation='relu')\n",
    "    # self.b2 = tf.keras.layers.BatchNormalization(trainable=True)\n",
    "    self.d2 = tf.keras.layers.Dense(1, activation='sigmoid',  use_bias= True)\n",
    "\n",
    "  def call(self, x):\n",
    "    x = tf.reshape(x, [-1, 50, 50, 3])\n",
    "    x = self.conv1(x)\n",
    "    x = self.conv2(x)\n",
    "    x = self.b1(x)\n",
    "#     block_1 = self.max0(x)\n",
    "    x = self.conv3(x)\n",
    "#     x = self.conv4(x)\n",
    "#     x = tf.keras.layers.add([x, block_1])\n",
    "#     block_2 = self.conv5(x)\n",
    "#     x = self.conv6(block_2)\n",
    "#     x = self.conv7(x)\n",
    "#     x = tf.keras.layers.add([x, block_2])\n",
    "#     block_3 = self.conv8(x)\n",
    "#     x = self.conv9(block_3)\n",
    "#     x = self.conv10(x)\n",
    "#     x = tf.keras.layers.add([x, block_3])\n",
    "#     block_4 = self.conv11(x)\n",
    "#     x = self.conv12(block_4)\n",
    "#     x = self.conv13(x)\n",
    "    x = self.max0(x)\n",
    "    x = self.flatten(x)\n",
    "    x = self.d1(x)\n",
    "    x = self.d2(x)\n",
    "    return x\n",
    "  \n",
    "  def get_model():\n",
    "    return Model(name='cnn')\n",
    "\n",
    "\n",
    "model = Model()"
   ]
  },
  {
   "cell_type": "code",
   "execution_count": 17,
   "metadata": {},
   "outputs": [
    {
     "name": "stdout",
     "output_type": "stream",
     "text": [
      "Progress : 9.999444695653553, Training Accuracy : 73.96478271484375\n",
      "Progress : 19.998889391307106, Training Accuracy : 76.3753890991211\n",
      "Progress : 29.99833408696066, Training Accuracy : 77.50687408447266\n",
      "Progress : 39.99777878261421, Training Accuracy : 78.12220764160156\n",
      "Progress : 49.99722347826776, Training Accuracy : 78.54219055175781\n",
      "Progress : 59.99666817392132, Training Accuracy : 78.79837799072266\n",
      "Progress : 69.99611286957487, Training Accuracy : 78.92697143554688\n",
      "Progress : 79.99555756522842, Training Accuracy : 79.1533203125\n",
      "Progress : 89.99500226088199, Training Accuracy : 79.28265380859375\n",
      "Progress : 99.99444695653553, Training Accuracy : 79.4368896484375\n",
      "Epoch 1, Loss: 0.46084102988243103, Accuracy: 79.43708038330078, Validation Loss: 0.4366365969181061, Validation Accuracy: 80.86685943603516\n"
     ]
    }
   ],
   "source": [
    "loss_function = tf.keras.losses.BinaryCrossentropy()\n",
    "optimizer = tf.keras.optimizers.Adadelta()\n",
    "train_loss = tf.keras.metrics.Mean(name='t_loss')\n",
    "train_accuracy = tf.keras.metrics.BinaryAccuracy(name='t_accuracy')\n",
    "\n",
    "\n",
    "test_loss = tf.keras.metrics.Mean(name='test_loss')\n",
    "test_accuracy = tf.keras.metrics.BinaryAccuracy(name='test_accuracy')\n",
    "\n",
    "val_loss = tf.keras.metrics.Mean(name='val_loss')\n",
    "val_accuracy = tf.keras.metrics.BinaryAccuracy(name='val_accuracy')\n",
    "\n",
    "def train_step(images, labels):\n",
    "      with tf.GradientTape() as tape:\n",
    "        preds = model(images)\n",
    "        loss = loss_function(labels, preds)\n",
    "        gradients = tape.gradient(loss, model.trainable_variables)\n",
    "        optimizer.apply_gradients(zip(gradients, model.trainable_variables))\n",
    "        train_loss(loss)\n",
    "        train_accuracy(labels, preds)\n",
    "#   print(train_accuracy.result())\n",
    "\n",
    "\n",
    "def test_step(images, labels):\n",
    "    preds = model(images)\n",
    "#     labels = labels.numpy().decode('utf-8')\n",
    "#     labels = float(labels)\n",
    "    loss = loss_function(labels, preds)\n",
    "    test_loss(loss)\n",
    "    test_accuracy(labels, preds)\n",
    "\n",
    "\n",
    "def val_step(images, labels):\n",
    "  with tf.GradientTape() as tape:\n",
    "    preds = model(images)\n",
    "#     labels = labels.numpy().decode('utf-8')\n",
    "#     labels = float(labels)\n",
    "    loss = loss_function(labels, preds)\n",
    "  val_loss(loss)\n",
    "  val_accuracy(labels, preds)\n",
    "\n",
    "epochs = 1\n",
    "\n",
    "for epoch in range(epochs):\n",
    "  for counter, (images, labels) in enumerate(train_data):\n",
    "    train_step(images, labels)\n",
    "    if counter % 12605 == 0 and counter!=0:\n",
    "        print(f\"Progress : {(counter/split_0)*100}, Training Accuracy : {train_accuracy.result()*100}\")\n",
    "\n",
    "\n",
    "  for val_images, val_labels in val_data:\n",
    "    val_step(val_images, val_labels)\n",
    "\n",
    "  print(f'Epoch {epoch + 1}, Loss: {train_loss.result()}, Accuracy: {train_accuracy.result()*100}, Validation Loss: {val_loss.result()}, Validation Accuracy: {val_accuracy.result()*100}')\n",
    "\n",
    "  # Reset the metrics for the next epoch\n",
    "  train_loss.reset_states()\n",
    "  train_accuracy.reset_states()\n",
    "  val_loss.reset_states()\n",
    "  val_accuracy.reset_states()"
   ]
  },
  {
   "cell_type": "code",
   "execution_count": 18,
   "metadata": {},
   "outputs": [],
   "source": [
    "model.save_weights('trained_model', save_format='tf')"
   ]
  },
  {
   "cell_type": "code",
   "execution_count": 10,
   "metadata": {},
   "outputs": [
    {
     "data": {
      "text/plain": [
       "<tensorflow.python.training.tracking.util.CheckpointLoadStatus at 0x7f44f1e47990>"
      ]
     },
     "execution_count": 10,
     "metadata": {},
     "output_type": "execute_result"
    }
   ],
   "source": [
    "model.load_weights('trained_model')"
   ]
  },
  {
   "cell_type": "code",
   "execution_count": 11,
   "metadata": {},
   "outputs": [],
   "source": [
    "def load_image(img):\n",
    "    image = tf.io.read_file(img)\n",
    "    image = tf.image.decode_jpeg(image, channels=3)\n",
    "    image = tf.image.convert_image_dtype(image, tf.float32)\n",
    "    image = tf.image.resize(image, [50, 50])\n",
    "    return image\n"
   ]
  },
  {
   "cell_type": "code",
   "execution_count": 15,
   "metadata": {},
   "outputs": [
    {
     "name": "stdout",
     "output_type": "stream",
     "text": [
      "[[0.8603688]]\n"
     ]
    }
   ],
   "source": [
    "image = load_image('../../' + images[-1][0])\n",
    "pred = model(image)\n",
    "print(pred.numpy())"
   ]
  },
  {
   "cell_type": "code",
   "execution_count": 16,
   "metadata": {},
   "outputs": [
    {
     "name": "stdout",
     "output_type": "stream",
     "text": [
      "/home/vijal/Projects/ML/Breast-Cancer-Detection-Tutti-AI\n"
     ]
    }
   ],
   "source": [
    "cwd = os.getcwd()\n",
    "print(cwd)"
   ]
  }
 ],
 "metadata": {
  "kernelspec": {
   "display_name": "Python 3",
   "language": "python",
   "name": "python3"
  },
  "language_info": {
   "codemirror_mode": {
    "name": "ipython",
    "version": 3
   },
   "file_extension": ".py",
   "mimetype": "text/x-python",
   "name": "python",
   "nbconvert_exporter": "python",
   "pygments_lexer": "ipython3",
   "version": "3.7.4"
  }
 },
 "nbformat": 4,
 "nbformat_minor": 2
}
