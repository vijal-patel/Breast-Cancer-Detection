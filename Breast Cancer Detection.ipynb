{
 "cells": [
  {
   "cell_type": "code",
   "execution_count": 1,
   "metadata": {
    "colab": {
     "base_uri": "https://localhost:8080/",
     "height": 34
    },
    "colab_type": "code",
    "id": "WBS3fgFKSL95",
    "outputId": "09d7866c-f1fc-459d-9e79-0689ce30c679"
   },
   "outputs": [
    {
     "name": "stdout",
     "output_type": "stream",
     "text": [
      "2.1.0\n"
     ]
    }
   ],
   "source": [
    "# Import required libraries \n",
    "import json\n",
    "import pandas as pd\n",
    "import numpy as np\n",
    "import math\n",
    "import tensorflow as tf\n",
    "import matplotlib.pyplot as plt\n",
    "import zipfile\n",
    "import os\n",
    "import random\n",
    "import itertools\n",
    "from tensorflow import keras\n",
    "from imblearn.under_sampling import RandomUnderSampler\n",
    "print(tf.version.VERSION)\n"
   ]
  },
  {
   "cell_type": "markdown",
   "metadata": {
    "colab_type": "text",
    "id": "f5Bs9vmmkiE_"
   },
   "source": [
    "Import data and split into train, test and validation datasets"
   ]
  },
  {
   "cell_type": "code",
   "execution_count": 48,
   "metadata": {
    "colab": {
     "base_uri": "https://localhost:8080/",
     "height": 170
    },
    "colab_type": "code",
    "id": "AOVgf9W_4lsU",
    "outputId": "80305bd9-4023-4687-d929-6d70deb5de70"
   },
   "outputs": [],
   "source": [
    "# %cd ../\n",
    "\n",
    "# with zipfile.ZipFile('./breast-histopathology-images.zip', 'r') as zip_f:\n",
    "#   zip_f.extractall()\n",
    "\n",
    "path = './IDC_regular_ps50_idx5'\n",
    "image_dir = []\n",
    "\n",
    "for root, dir, files in os.walk(path):\n",
    "    for file in files:\n",
    "            image_dir.append(os.path.join(root, file))"
   ]
  },
  {
   "cell_type": "code",
   "execution_count": 49,
   "metadata": {},
   "outputs": [],
   "source": [
    "labels = []\n",
    "\n",
    "for img in image_dir:\n",
    "    temp = img.split('/')\n",
    "    labels.append(temp[-2])    "
   ]
  },
  {
   "cell_type": "code",
   "execution_count": null,
   "metadata": {},
   "outputs": [],
   "source": []
  },
  {
   "cell_type": "code",
   "execution_count": 32,
   "metadata": {},
   "outputs": [
    {
     "name": "stdout",
     "output_type": "stream",
     "text": [
      "Found 0 images belonging to 2 classes.\n"
     ]
    }
   ],
   "source": [
    "image_generator = tf.keras.preprocessing.image.ImageDataGenerator(rescale=1./255)\n",
    "train_data_gen = image_generator.flow_from_directory(directory=path,\n",
    "                                                     batch_size=32,\n",
    "                                                     shuffle=True,\n",
    "                                                     target_size=(50, 50),\n",
    "                                                     class_mode='binary',\n",
    "                                                    classes=['0','1'])\n"
   ]
  },
  {
   "cell_type": "code",
   "execution_count": 27,
   "metadata": {},
   "outputs": [],
   "source": [
    "def show_batch(image_batch, label_batch):\n",
    "  plt.figure(figsize=(10,10))\n",
    "  for n in range(25):\n",
    "      ax = plt.subplot(5,5,n+1)\n",
    "      plt.imshow(image_batch[n])\n",
    "      plt.axis('off')"
   ]
  },
  {
   "cell_type": "code",
   "execution_count": 30,
   "metadata": {},
   "outputs": [
    {
     "name": "stdout",
     "output_type": "stream",
     "text": [
      "[0. 0. 0. 0. 0. 0. 0. 0. 0. 1. 0. 0. 0. 0. 0. 0. 0. 0. 0. 0. 0. 0. 0. 0.\n",
      " 0. 0. 0. 0. 0. 0. 0. 0. 0. 0. 0. 0. 0. 0. 0. 0. 0. 0. 0. 0. 0. 0. 0. 0.\n",
      " 0. 0. 0. 0. 0. 0. 0. 0. 0. 0. 0. 0. 0. 0. 0. 0. 0. 0. 0. 0. 0. 0. 0. 0.\n",
      " 0. 0. 0. 0. 0. 0. 0. 0. 0. 0. 0. 0. 0. 0. 0. 0. 0. 0. 0. 0. 0. 0. 0. 0.\n",
      " 0. 0. 0. 0. 0. 0. 0. 0. 0. 0. 0. 0. 0. 0. 0. 0. 0. 0. 0. 0. 0. 0. 0. 0.\n",
      " 0. 0. 0. 0. 0. 0. 0. 0. 0. 0. 0. 0. 0. 0. 0. 0. 0. 0. 0. 0. 0. 0. 0. 0.\n",
      " 0. 0. 0. 0. 0. 0. 0. 0. 0. 0. 0. 0. 0. 0. 0. 0. 0. 0. 0. 0. 0. 0. 0. 0.\n",
      " 0. 0. 0. 0. 0. 0. 0. 0. 0. 0. 0. 0. 0. 0. 0. 0. 0. 0. 0. 0. 0. 0. 0. 0.\n",
      " 0. 0. 0. 0. 0. 0. 0. 0. 0. 0. 0. 0. 0. 0. 0. 0. 0. 0. 0. 0. 0. 0. 0. 0.\n",
      " 0. 0. 0. 0. 0. 0. 0. 0. 0. 0. 0. 0. 0. 0. 0. 0. 0. 0. 0. 0. 0. 0. 0. 0.\n",
      " 0. 0. 0. 0. 0. 0. 0. 0. 0. 0. 0. 0. 0. 0. 0. 0. 0. 0. 0. 0. 0. 0. 0. 0.\n",
      " 0. 0. 0. 0. 0. 0. 0. 0. 0. 0. 0. 0. 0. 0. 0.]\n"
     ]
    }
   ],
   "source": [
    "image_batch, label_batch = next(train_data_gen)\n",
    "# show_batch(image_batch, label_batch)\n",
    "print(label_batch[0])\n"
   ]
  },
  {
   "cell_type": "code",
   "execution_count": 50,
   "metadata": {},
   "outputs": [],
   "source": [
    "image_dir = np.asarray(image_dir).reshape(-1,1)\n",
    "labels = [float(y) for y in labels]\n",
    "# labels = np.asarray(labels).reshape(-1,1)"
   ]
  },
  {
   "cell_type": "code",
   "execution_count": 51,
   "metadata": {},
   "outputs": [],
   "source": [
    "rus = RandomUnderSampler(random_state=0)\n",
    "X_resampled, y_resampled = rus.fit_resample(image_dir, labels)"
   ]
  },
  {
   "cell_type": "code",
   "execution_count": 56,
   "metadata": {},
   "outputs": [],
   "source": [
    "df = pd.DataFrame(data=X_resampled)\n",
    "df.head()\n",
    "df.to_csv(\"under_sampled.csv\")"
   ]
  },
  {
   "cell_type": "code",
   "execution_count": 42,
   "metadata": {},
   "outputs": [
    {
     "name": "stdout",
     "output_type": "stream",
     "text": [
      "[0.]\n"
     ]
    }
   ],
   "source": []
  },
  {
   "cell_type": "code",
   "execution_count": 12,
   "metadata": {
    "colab": {},
    "colab_type": "code",
    "id": "Meugrh44Ulak"
   },
   "outputs": [],
   "source": [
    "def parse_image(img, lbl):\n",
    "    image = tf.io.read_file(img)\n",
    "    image = tf.image.decode_jpeg(image, channels=3)\n",
    "    image = tf.image.convert_image_dtype(image, tf.float32)\n",
    "    image = tf.image.resize(image, [50, 50])\n",
    "    return image, lbl\n",
    "# tf.strings.to_number(label,out_type=tf.dtypes.int32)\n",
    "\n",
    "def preprocess_image(img, lbl):\n",
    "    image = tf.image.random_flip_left_right(img)\n",
    "    image = tf.image.random_flip_up_down(img)\n",
    "    return image, lbl\n",
    "\n",
    "def show_image(img, lbl):\n",
    "    plt.figure()\n",
    "    plt.imshow(img)\n",
    "    plt.title(tf.strings.as_string(lbl))\n",
    "    plt.axis('off')"
   ]
  },
  {
   "cell_type": "code",
   "execution_count": 10,
   "metadata": {},
   "outputs": [],
   "source": [
    "split_0 = int(0.8*len(X_resampled))\n",
    "split_1 = int(0.1*len(X_resampled))\n",
    "train_x = X_resampled[0][:split_0]\n",
    "train_y = y_resampled[0][:split_0]\n",
    "test_dir = X_resampled[split_0:split_1]\n",
    "val_dir = X_resampled[split_1:]"
   ]
  },
  {
   "cell_type": "code",
   "execution_count": 28,
   "metadata": {
    "colab": {},
    "colab_type": "code",
    "collapsed": true,
    "id": "gjOkMxNBsu0M"
   },
   "outputs": [
    {
     "ename": "NameError",
     "evalue": "name 'data' is not defined",
     "output_type": "error",
     "traceback": [
      "\u001b[0;31m---------------------------------------------------------------------------\u001b[0m",
      "\u001b[0;31mNameError\u001b[0m                                 Traceback (most recent call last)",
      "\u001b[0;32m<ipython-input-28-4b1bcc244329>\u001b[0m in \u001b[0;36m<module>\u001b[0;34m\u001b[0m\n\u001b[1;32m      1\u001b[0m \u001b[0;31m# dir_list = tf.data.Dataset.list_files('./IDC_regular_ps50_idx5/*/*/*.png')\u001b[0m\u001b[0;34m\u001b[0m\u001b[0;34m\u001b[0m\u001b[0;34m\u001b[0m\u001b[0m\n\u001b[1;32m      2\u001b[0m \u001b[0;31m# data = dir_list.map(parse_image)\u001b[0m\u001b[0;34m\u001b[0m\u001b[0;34m\u001b[0m\u001b[0;34m\u001b[0m\u001b[0m\n\u001b[0;32m----> 3\u001b[0;31m \u001b[0mdata\u001b[0m\u001b[0;34m.\u001b[0m\u001b[0mshuffle\u001b[0m\u001b[0;34m(\u001b[0m\u001b[0mlen\u001b[0m\u001b[0;34m(\u001b[0m\u001b[0mimage_dir\u001b[0m\u001b[0;34m)\u001b[0m\u001b[0;34m,\u001b[0m \u001b[0;36m1\u001b[0m\u001b[0;34m)\u001b[0m\u001b[0;34m\u001b[0m\u001b[0;34m\u001b[0m\u001b[0m\n\u001b[0m\u001b[1;32m      4\u001b[0m \u001b[0mtrain_data\u001b[0m \u001b[0;34m=\u001b[0m \u001b[0mdata\u001b[0m\u001b[0;34m.\u001b[0m\u001b[0mtake\u001b[0m\u001b[0;34m(\u001b[0m\u001b[0msplit_0\u001b[0m\u001b[0;34m)\u001b[0m\u001b[0;34m.\u001b[0m\u001b[0mmap\u001b[0m\u001b[0;34m(\u001b[0m\u001b[0mpreprocess_image\u001b[0m\u001b[0;34m)\u001b[0m\u001b[0;34m\u001b[0m\u001b[0;34m\u001b[0m\u001b[0m\n\u001b[1;32m      5\u001b[0m \u001b[0;31m# train_data = train_data.batch(20)\u001b[0m\u001b[0;34m\u001b[0m\u001b[0;34m\u001b[0m\u001b[0;34m\u001b[0m\u001b[0m\n",
      "\u001b[0;31mNameError\u001b[0m: name 'data' is not defined"
     ]
    }
   ],
   "source": [
    "dir_list = tf.data.Dataset.list_files('./IDC_regular_ps50_idx5/*/*/*.png')\n",
    "data = dir_list.map(parse_image)\n",
    "data.shuffle(len(image_dir), 1)\n",
    "train_data = data.take(split_0).map(preprocess_image)\n",
    "# train_data = train_data.batch(20)\n",
    "temp_data = data.skip(split_0)\n",
    "val_data = temp_data.skip(split_1)\n",
    "test_data = temp_data.take(split_1)"
   ]
  },
  {
   "cell_type": "code",
   "execution_count": 17,
   "metadata": {},
   "outputs": [],
   "source": [
    "data = tf.data.Dataset.from_tensor_slices((X_resampled[0], y_resampled[0])) \n",
    "data = data.map(parse_image)\n",
    "train_data = data.take(split_0).map(preprocess_image)\n",
    "# train_data = train_data.batch(20)\n",
    "temp_data = data.skip(split_0)\n",
    "val_data = temp_data.skip(split_1)\n",
    "test_data = temp_data.take(split_1)"
   ]
  },
  {
   "cell_type": "markdown",
   "metadata": {
    "colab_type": "text",
    "id": "pchIYDoDXzsf"
   },
   "source": [
    "Plot an image to verify that processing was done correcty"
   ]
  },
  {
   "cell_type": "code",
   "execution_count": 18,
   "metadata": {
    "colab": {
     "base_uri": "https://localhost:8080/",
     "height": 264
    },
    "colab_type": "code",
    "id": "9jCc9JsexlXJ",
    "outputId": "c89ada0a-156f-4db6-956c-97261a09213c"
   },
   "outputs": [
    {
     "data": {
      "image/png": "[encoded data removed]",
      "text/plain": [
       "<Figure size 432x288 with 1 Axes>"
      ]
     },
     "metadata": {
      "needs_background": "light"
     },
     "output_type": "display_data"
    }
   ],
   "source": [
    "for image, label in train_data.take(1):\n",
    "  show_image(image, label)\n",
    "#   print(label)"
   ]
  },
  {
   "cell_type": "code",
   "execution_count": 19,
   "metadata": {
    "colab": {},
    "colab_type": "code",
    "id": "nzz4TPNdy79Q"
   },
   "outputs": [],
   "source": [
    "class Model(tf.keras.Model):\n",
    "\n",
    "  def __init__(self):\n",
    "    super(Model, self).__init__()\n",
    "    self.conv1 = tf.keras.layers.Conv2D(32, 3, activation='relu', bias_initializer='he_normal')\n",
    "    self.conv2 = tf.keras.layers.Conv2D(64, 3, activation='relu', bias_initializer='he_normal')\n",
    "    self.max0 = tf.keras.layers.MaxPool2D(2,2)\n",
    "    self.conv3 = tf.keras.layers.Conv2D(64, 3, activation='relu', padding=\"same\", bias_initializer='he_normal')\n",
    "    self.conv4 = tf.keras.layers.Conv2D(64, 3, activation='relu', padding=\"same\", bias_initializer='he_normal')\n",
    "    self.conv5 = tf.keras.layers.Conv2D(128, 3, activation='relu')\n",
    "    self.conv6 = tf.keras.layers.Conv2D(128, 3, activation='relu', padding=\"same\", bias_initializer='he_normal')\n",
    "    self.conv7 = tf.keras.layers.Conv2D(128, 3, activation='relu', padding=\"same\", bias_initializer='he_normal')\n",
    "    self.conv8 = tf.keras.layers.Conv2D(256, 3, activation='relu')\n",
    "    self.conv9 = tf.keras.layers.Conv2D(256, 3, activation='relu', padding=\"same\", bias_initializer='he_normal')\n",
    "    self.conv10 = tf.keras.layers.Conv2D(256, 3, activation='relu', padding=\"same\", bias_initializer='he_normal')\n",
    "    self.conv11 = tf.keras.layers.Conv2D(512, 3, activation='relu', bias_initializer='he_normal')\n",
    "    self.conv12 = tf.keras.layers.Conv2D(512, 3, activation='relu', padding=\"same\", bias_initializer='he_normal')\n",
    "    self.conv13 = tf.keras.layers.Conv2D(512, 3, activation='relu', padding=\"same\", bias_initializer='he_normal')\n",
    "    # self.ave0 = tf.keras.layers.AveragePooling2D()\n",
    "    self.flatten = tf.keras.layers.Flatten()\n",
    "    self.d1 = tf.keras.layers.Dense(1000, activation='relu', use_bias= True, bias_initializer='he_normal')\n",
    "    # self.b1 = tf.keras.layers.BatchNormalization(trainable=True)\n",
    "    # self.d2 = tf.keras.layers.Dense(4096, activation='relu')\n",
    "    # self.b2 = tf.keras.layers.BatchNormalization(trainable=True)\n",
    "    self.d2 = tf.keras.layers.Dense(1, activation='sigmoid',  use_bias= True, bias_initializer='he_normal')\n",
    "\n",
    "  def call(self, x):\n",
    "    x = tf.reshape(x, [-1, 50, 50, 3])\n",
    "    x = self.conv1(x)\n",
    "    x = self.conv2(x)\n",
    "    # x = self.b1(x)\n",
    "    block_1 = self.max0(x)\n",
    "    x = self.conv3(block_1)\n",
    "    x = self.conv4(x)\n",
    "    x = tf.keras.layers.add([x, block_1])\n",
    "    block_2 = self.conv5(x)\n",
    "    x = self.conv6(block_2)\n",
    "    x = self.conv7(x)\n",
    "    x = tf.keras.layers.add([x, block_2])\n",
    "    block_3 = self.conv8(x)\n",
    "    x = self.conv9(block_3)\n",
    "    x = self.conv10(x)\n",
    "    x = tf.keras.layers.add([x, block_3])\n",
    "    block_4 = self.conv11(x)\n",
    "    x = self.conv12(block_4)\n",
    "    x = self.conv13(x)\n",
    "    # x = self.max0(x)\n",
    "    x = self.flatten(x)\n",
    "    x = self.d1(x)\n",
    "    x = self.d2(x)\n",
    "    return x\n",
    "\n",
    "model = Model()"
   ]
  },
  {
   "cell_type": "code",
   "execution_count": 21,
   "metadata": {
    "colab": {
     "base_uri": "https://localhost:8080/",
     "height": 102
    },
    "colab_type": "code",
    "id": "oPnfU9nDRO7e",
    "outputId": "0b19c895-e5fd-433a-a265-60a26b553850"
   },
   "outputs": [
    {
     "name": "stdout",
     "output_type": "stream",
     "text": [
      "Epoch 1, Loss: 0.0, Accuracy: 100.0, Validation Loss: 0.0, Validation Accuracy: 0.0\n",
      "Epoch 2, Loss: 0.0, Accuracy: 100.0, Validation Loss: 0.0, Validation Accuracy: 0.0\n",
      "Epoch 3, Loss: 0.0, Accuracy: 100.0, Validation Loss: 0.0, Validation Accuracy: 0.0\n"
     ]
    }
   ],
   "source": [
    "loss_function = tf.keras.losses.BinaryCrossentropy()\n",
    "optimizer = tf.keras.optimizers.RMSprop(0.01)\n",
    "\n",
    "train_loss = tf.keras.metrics.Mean(name='train_loss')\n",
    "train_accuracy = tf.keras.metrics.BinaryAccuracy(name='train_accuracy')\n",
    "\n",
    "test_loss = tf.keras.metrics.Mean(name='test_loss')\n",
    "test_accuracy = tf.keras.metrics.BinaryAccuracy(name='test_accuracy')\n",
    "\n",
    "val_loss = tf.keras.metrics.Mean(name='val_loss')\n",
    "val_accuracy = tf.keras.metrics.BinaryAccuracy(name='val_accuracy')\n",
    "\n",
    "def train_step(images, labels):\n",
    "  with tf.GradientTape() as tape:\n",
    "    preds = model(images)\n",
    "    loss = loss_function(labels, preds)\n",
    "  gradients = tape.gradient(loss, model.trainable_variables)\n",
    "  optimizer.apply_gradients(zip(gradients, model.trainable_variables))\n",
    "\n",
    "  train_loss(loss)\n",
    "  train_accuracy(labels, preds)\n",
    "  # print(train_accuracy.result())\n",
    "\n",
    "\n",
    "def test_step(images, labels):\n",
    "  with tf.GradientTape() as tape:\n",
    "    preds = model(images)\n",
    "#     labels = labels.numpy().decode('utf-8')\n",
    "#     labels = float(labels)\n",
    "    loss = loss_function(labels, preds)\n",
    "    test_loss(loss)\n",
    "    test_accuracy(labels, preds)\n",
    "\n",
    "\n",
    "def val_step(images, labels):\n",
    "  with tf.GradientTape() as tape:\n",
    "    preds = model(images)\n",
    "#     labels = labels.numpy().decode('utf-8')\n",
    "#     labels = float(labels)\n",
    "    loss = loss_function(labels, preds)\n",
    "    val_loss(loss)\n",
    "    val_accuracy(labels, preds)\n",
    "\n",
    "epochs = 3\n",
    "\n",
    "for epoch in range(epochs):\n",
    "  for counter, (images, labels) in enumerate(train_data):\n",
    "    train_step(images, labels)\n",
    "    if counter % 55504 == 0 and counter!=0:\n",
    "      print(f\"Progress : {round(counter/len(image_dir)*100)}%, Training Accuracy : {train_accuracy.result()*100}\")\n",
    "\n",
    "\n",
    "  for val_images, val_labels in val_data:\n",
    "    val_step(val_images, val_labels)\n",
    "\n",
    "  print(f'Epoch {epoch + 1}, Loss: {train_loss.result()}, Accuracy: {train_accuracy.result()*100}, Validation Loss: {val_loss.result()}, Validation Accuracy: {val_accuracy.result()*100}')\n",
    "\n",
    "  # Reset the metrics for the next epoch\n",
    "  train_loss.reset_states()\n",
    "  train_accuracy.reset_states()\n",
    "  val_loss.reset_states()\n",
    "  val_accuracy.reset_states()"
   ]
  },
  {
   "cell_type": "code",
   "execution_count": null,
   "metadata": {},
   "outputs": [],
   "source": []
  }
 ],
 "metadata": {
  "accelerator": "GPU",
  "colab": {
   "collapsed_sections": [],
   "name": "Invasive Ductal Carcinoma Detection",
   "provenance": []
  },
  "kernelspec": {
   "display_name": "Python 3",
   "language": "python",
   "name": "python3"
  },
  "language_info": {
   "codemirror_mode": {
    "name": "ipython",
    "version": 3
   },
   "file_extension": ".py",
   "mimetype": "text/x-python",
   "name": "python",
   "nbconvert_exporter": "python",
   "pygments_lexer": "ipython3",
   "version": "3.7.4"
  }
 },
 "nbformat": 4,
 "nbformat_minor": 1
}
